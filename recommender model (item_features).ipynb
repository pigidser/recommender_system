{
 "cells": [
  {
   "cell_type": "markdown",
   "metadata": {},
   "source": [
    "# Recommender model based on LightFM\n",
    "## The model with item_features"
   ]
  },
  {
   "cell_type": "code",
   "execution_count": 1,
   "metadata": {},
   "outputs": [],
   "source": [
    "from scipy.sparse import coo_matrix as sp\n",
    "import time\n",
    "import matplotlib\n",
    "import numpy as np\n",
    "import pandas as pd\n",
    "import matplotlib.pyplot as plt\n",
    "import json\n",
    "from lightfm import LightFM\n",
    "from lightfm.data import Dataset\n",
    "from lightfm.evaluation import auc_score, precision_at_k, recall_at_k\n",
    "from lightfm.cross_validation import random_train_test_split \n",
    "from sklearn.model_selection import train_test_split\n",
    "from sklearn.metrics import roc_auc_score\n",
    "from sklearn import linear_model\n",
    "from scipy.special import expit"
   ]
  },
  {
   "cell_type": "code",
   "execution_count": 2,
   "metadata": {},
   "outputs": [
    {
     "name": "stderr",
     "output_type": "stream",
     "text": [
      "/home/pigidser/anaconda3/envs/recsys/lib/python3.7/site-packages/IPython/core/interactiveshell.py:3063: DtypeWarning: Columns (8) have mixed types.Specify dtype option on import or set low_memory=False.\n",
      "  interactivity=interactivity, compiler=compiler, result=result)\n",
      "/home/pigidser/anaconda3/envs/recsys/lib/python3.7/site-packages/IPython/core/interactiveshell.py:3063: DtypeWarning: Columns (5) have mixed types.Specify dtype option on import or set low_memory=False.\n",
      "  interactivity=interactivity, compiler=compiler, result=result)\n"
     ]
    }
   ],
   "source": [
    "train = pd.read_csv('train.csv')\n",
    "test = pd.read_csv('test.csv')\n",
    "submission = pd.read_csv('sample_submission.csv')"
   ]
  },
  {
   "cell_type": "code",
   "execution_count": 4,
   "metadata": {},
   "outputs": [
    {
     "data": {
      "text/html": [
       "<div>\n",
       "<style scoped>\n",
       "    .dataframe tbody tr th:only-of-type {\n",
       "        vertical-align: middle;\n",
       "    }\n",
       "\n",
       "    .dataframe tbody tr th {\n",
       "        vertical-align: top;\n",
       "    }\n",
       "\n",
       "    .dataframe thead th {\n",
       "        text-align: right;\n",
       "    }\n",
       "</style>\n",
       "<table border=\"1\" class=\"dataframe\">\n",
       "  <thead>\n",
       "    <tr style=\"text-align: right;\">\n",
       "      <th></th>\n",
       "      <th>overall</th>\n",
       "      <th>verified</th>\n",
       "      <th>reviewTime</th>\n",
       "      <th>asin</th>\n",
       "      <th>reviewerName</th>\n",
       "      <th>reviewText</th>\n",
       "      <th>summary</th>\n",
       "      <th>unixReviewTime</th>\n",
       "      <th>vote</th>\n",
       "      <th>style</th>\n",
       "      <th>image</th>\n",
       "      <th>userid</th>\n",
       "      <th>itemid</th>\n",
       "      <th>rating</th>\n",
       "    </tr>\n",
       "  </thead>\n",
       "  <tbody>\n",
       "    <tr>\n",
       "      <th>0</th>\n",
       "      <td>5.0</td>\n",
       "      <td>True</td>\n",
       "      <td>10 4, 2016</td>\n",
       "      <td>B01CPNIEQG</td>\n",
       "      <td>Heather</td>\n",
       "      <td>These are my FAVORITE spices in my collection....</td>\n",
       "      <td>Must Add to your Spice kitchen!</td>\n",
       "      <td>1475539200</td>\n",
       "      <td>NaN</td>\n",
       "      <td>NaN</td>\n",
       "      <td>NaN</td>\n",
       "      <td>102179</td>\n",
       "      <td>37138</td>\n",
       "      <td>1.0</td>\n",
       "    </tr>\n",
       "    <tr>\n",
       "      <th>1</th>\n",
       "      <td>5.0</td>\n",
       "      <td>True</td>\n",
       "      <td>03 1, 2016</td>\n",
       "      <td>B006F63M8U</td>\n",
       "      <td>Linda Odom</td>\n",
       "      <td>Add A package to my Coffee and it makes a good...</td>\n",
       "      <td>Milk Chocolate Swiis MIss Hot Cocoa Mix</td>\n",
       "      <td>1456790400</td>\n",
       "      <td>NaN</td>\n",
       "      <td>{'Size:': ' 60-0.73 oz Envelopes'}</td>\n",
       "      <td>NaN</td>\n",
       "      <td>3625</td>\n",
       "      <td>17322</td>\n",
       "      <td>1.0</td>\n",
       "    </tr>\n",
       "    <tr>\n",
       "      <th>2</th>\n",
       "      <td>5.0</td>\n",
       "      <td>True</td>\n",
       "      <td>06 26, 2016</td>\n",
       "      <td>B00112O8NG</td>\n",
       "      <td>DesertBlossom</td>\n",
       "      <td>I love the Torani syrups, but not the prices o...</td>\n",
       "      <td>Love these sugar free syrups, but didn't love ...</td>\n",
       "      <td>1466899200</td>\n",
       "      <td>28</td>\n",
       "      <td>NaN</td>\n",
       "      <td>NaN</td>\n",
       "      <td>39495</td>\n",
       "      <td>5600</td>\n",
       "      <td>1.0</td>\n",
       "    </tr>\n",
       "  </tbody>\n",
       "</table>\n",
       "</div>"
      ],
      "text/plain": [
       "   overall  verified   reviewTime        asin   reviewerName  \\\n",
       "0      5.0      True   10 4, 2016  B01CPNIEQG        Heather   \n",
       "1      5.0      True   03 1, 2016  B006F63M8U     Linda Odom   \n",
       "2      5.0      True  06 26, 2016  B00112O8NG  DesertBlossom   \n",
       "\n",
       "                                          reviewText  \\\n",
       "0  These are my FAVORITE spices in my collection....   \n",
       "1  Add A package to my Coffee and it makes a good...   \n",
       "2  I love the Torani syrups, but not the prices o...   \n",
       "\n",
       "                                             summary  unixReviewTime vote  \\\n",
       "0                    Must Add to your Spice kitchen!      1475539200  NaN   \n",
       "1            Milk Chocolate Swiis MIss Hot Cocoa Mix      1456790400  NaN   \n",
       "2  Love these sugar free syrups, but didn't love ...      1466899200   28   \n",
       "\n",
       "                                style image  userid  itemid  rating  \n",
       "0                                 NaN   NaN  102179   37138     1.0  \n",
       "1  {'Size:': ' 60-0.73 oz Envelopes'}   NaN    3625   17322     1.0  \n",
       "2                                 NaN   NaN   39495    5600     1.0  "
      ]
     },
     "execution_count": 4,
     "metadata": {},
     "output_type": "execute_result"
    }
   ],
   "source": [
    "train.head(3)"
   ]
  },
  {
   "cell_type": "markdown",
   "metadata": {},
   "source": [
    "## Products"
   ]
  },
  {
   "cell_type": "code",
   "execution_count": 5,
   "metadata": {},
   "outputs": [
    {
     "name": "stdout",
     "output_type": "stream",
     "text": [
      "CPU times: user 21 s, sys: 1.59 s, total: 22.6 s\n",
      "Wall time: 22.6 s\n"
     ]
    }
   ],
   "source": [
    "%%time\n",
    "# Read products and create dataframe\n",
    "f = open('meta_Grocery_and_Gourmet_Food.json', 'r') \n",
    "count = 0\n",
    "data = []\n",
    "while True: \n",
    "    count += 1\n",
    "    line = f.readline()\n",
    "    if not line: break\n",
    "    data.append(json.loads(line))\n",
    "f.close() \n",
    "\n",
    "prod = pd.DataFrame(data)\n",
    "prod.drop(['date','feature','details','similar_item','tech1','fit'],axis=1, inplace=True)"
   ]
  },
  {
   "cell_type": "code",
   "execution_count": 6,
   "metadata": {},
   "outputs": [],
   "source": [
    "# Leave products which are used in train and test\n",
    "asin = np.concatenate([train.asin.values, test.asin.values])\n",
    "prod = prod[(prod.asin.isin(asin))]"
   ]
  },
  {
   "cell_type": "code",
   "execution_count": 7,
   "metadata": {},
   "outputs": [],
   "source": [
    "# Categories\n",
    "prod['category'] = prod['category'].apply(lambda x: str(x))\n",
    "category_list = list(set(np.concatenate([prod['category'].values])))\n",
    "\n",
    "# Brands\n",
    "prod.brand.fillna('unknown_brand',inplace=True)\n",
    "brand_list = list(set(np.concatenate([prod.brand.values])))\n",
    "\n",
    "# Main category\n",
    "prod.main_cat.fillna('unknown_main cat',inplace=True)\n",
    "main_cat_list = list(set(np.concatenate([prod.main_cat.values])))\n",
    "\n",
    "# Joined feature list\n",
    "feature_list = list(set(category_list + brand_list + main_cat_list))"
   ]
  },
  {
   "cell_type": "markdown",
   "metadata": {},
   "source": [
    "## Train / test"
   ]
  },
  {
   "cell_type": "code",
   "execution_count": 10,
   "metadata": {},
   "outputs": [
    {
     "name": "stdout",
     "output_type": "stream",
     "text": [
      "Num users: 127496, num_items 41320.\n",
      "CPU times: user 1.27 s, sys: 8.21 ms, total: 1.28 s\n",
      "Wall time: 1.28 s\n"
     ]
    }
   ],
   "source": [
    "%%time\n",
    "# Building the Model\n",
    "\n",
    "dataset = Dataset()\n",
    "dataset.fit(train.userid.values,\n",
    "            train.asin.values,\n",
    "            item_features=feature_list)\n",
    "dataset.fit_partial(test.userid.values,\n",
    "                    test.asin.values)\n",
    "\n",
    "num_users, num_items = dataset.interactions_shape()\n",
    "print('Num users: {}, num_items {}.'.format(num_users, num_items))"
   ]
  },
  {
   "cell_type": "code",
   "execution_count": 11,
   "metadata": {},
   "outputs": [
    {
     "name": "stdout",
     "output_type": "stream",
     "text": [
      "<127496x41320 sparse matrix of type '<class 'numpy.int32'>'\n",
      "\twith 857895 stored elements in COOrdinate format> <127496x41320 sparse matrix of type '<class 'numpy.float32'>'\n",
      "\twith 857895 stored elements in COOrdinate format>\n",
      "CPU times: user 2.47 s, sys: 64 ms, total: 2.54 s\n",
      "Wall time: 2.53 s\n"
     ]
    }
   ],
   "source": [
    "%%time\n",
    "(interactions, weights) = dataset.build_interactions(\n",
    "    [tuple(row) for row in train[['userid','asin','rating']].values])\n",
    "\n",
    "print(repr(interactions),repr(weights))\n",
    "\n",
    "weights_train, weights_test = \\\n",
    "    random_train_test_split(weights,\n",
    "                            test_percentage=0.2,\n",
    "                            random_state=np.random.RandomState(42))"
   ]
  },
  {
   "cell_type": "code",
   "execution_count": 13,
   "metadata": {},
   "outputs": [],
   "source": [
    "def join_feat(row):\n",
    "    return [row['category']] + [row['brand']] + [row['main_cat']]\n",
    "\n",
    "feat_subset = prod[['category','brand','main_cat']].apply(join_feat, axis=1).values\n",
    "feat_tuple = tuple(zip(prod['asin'], feat_subset))\n",
    "item_features = dataset.build_item_features(feat_tuple, normalize=True)"
   ]
  },
  {
   "cell_type": "code",
   "execution_count": 14,
   "metadata": {},
   "outputs": [
    {
     "name": "stdout",
     "output_type": "stream",
     "text": [
      "Epoch 0\n",
      "Epoch 1\n",
      "Epoch 2\n",
      "Epoch 3\n",
      "Epoch 4\n",
      "CPU times: user 51.7 s, sys: 2.08 s, total: 53.8 s\n",
      "Wall time: 14.9 s\n"
     ]
    }
   ],
   "source": [
    "%%time\n",
    "# Training the Model\n",
    "\n",
    "NUM_THREADS = 8 #число потоков\n",
    "NUM_COMPONENTS = 200 #число параметров вектора \n",
    "NUM_EPOCHS = 5 #число эпох обучения\n",
    "\n",
    "model = LightFM(learning_rate=0.03, loss='warp', # 'logistic', 'warp', 'bpr', 'warp-kos'\n",
    "                no_components=NUM_COMPONENTS)\n",
    "\n",
    "model = model.fit(weights_train,\n",
    "                  item_features=item_features,\n",
    "                  epochs=NUM_EPOCHS, \n",
    "                  num_threads=NUM_THREADS, verbose=True)"
   ]
  },
  {
   "cell_type": "markdown",
   "metadata": {},
   "source": [
    "## AUC score"
   ]
  },
  {
   "cell_type": "code",
   "execution_count": 15,
   "metadata": {},
   "outputs": [
    {
     "name": "stdout",
     "output_type": "stream",
     "text": [
      "AUC: train 0.9116\n",
      "CPU times: user 20min 19s, sys: 615 ms, total: 20min 20s\n",
      "Wall time: 5min 18s\n"
     ]
    }
   ],
   "source": [
    "%%time\n",
    "train_auc = auc_score(model, weights_train, item_features=item_features,\n",
    "#                      train_interactions=weights_train,\n",
    "                     num_threads=8)\n",
    "print('AUC: train %.4f' % (train_auc.mean()))"
   ]
  },
  {
   "cell_type": "code",
   "execution_count": 16,
   "metadata": {},
   "outputs": [
    {
     "name": "stdout",
     "output_type": "stream",
     "text": [
      "AUC: test 0.8067\n",
      "CPU times: user 13min 40s, sys: 524 ms, total: 13min 40s\n",
      "Wall time: 3min 32s\n"
     ]
    }
   ],
   "source": [
    "%%time\n",
    "test_auc = auc_score(model, weights_test, item_features=item_features,\n",
    "#                      train_interactions=weights_train,\n",
    "                     num_threads=8)\n",
    "print('AUC: test %.4f' % (test_auc.mean()))"
   ]
  },
  {
   "cell_type": "markdown",
   "metadata": {},
   "source": [
    "## Precision"
   ]
  },
  {
   "cell_type": "code",
   "execution_count": 17,
   "metadata": {},
   "outputs": [
    {
     "name": "stdout",
     "output_type": "stream",
     "text": [
      "prec_score: 0.0739\n",
      "CPU times: user 20min 12s, sys: 647 ms, total: 20min 12s\n",
      "Wall time: 5min 6s\n"
     ]
    }
   ],
   "source": [
    "%%time\n",
    "prec_score = precision_at_k(\n",
    "                     model,\n",
    "                     weights_train,\n",
    "                     num_threads=NUM_THREADS,\n",
    "                     k=3,\n",
    "                     item_features=item_features)\n",
    "print('prec_score: %.4f' % (prec_score.mean()))"
   ]
  },
  {
   "cell_type": "code",
   "execution_count": 18,
   "metadata": {},
   "outputs": [
    {
     "name": "stdout",
     "output_type": "stream",
     "text": [
      "prec_score test: 0.0222\n",
      "CPU times: user 13min 40s, sys: 548 ms, total: 13min 41s\n",
      "Wall time: 3min 32s\n"
     ]
    }
   ],
   "source": [
    "%%time\n",
    "prec_score_test = precision_at_k(\n",
    "                     model,\n",
    "                     weights_test,\n",
    "                     num_threads=NUM_THREADS,\n",
    "                     k=3,\n",
    "                     item_features=item_features)\n",
    "print('prec_score test: %.4f' % (prec_score_test.mean()))"
   ]
  },
  {
   "cell_type": "markdown",
   "metadata": {},
   "source": [
    "## Recall"
   ]
  },
  {
   "cell_type": "code",
   "execution_count": 19,
   "metadata": {},
   "outputs": [
    {
     "name": "stdout",
     "output_type": "stream",
     "text": [
      "recall_score: 0.0529\n",
      "CPU times: user 20min 25s, sys: 500 ms, total: 20min 25s\n",
      "Wall time: 5min 9s\n"
     ]
    }
   ],
   "source": [
    "%%time\n",
    "recall_score = recall_at_k(model,\n",
    "                     weights_train,\n",
    "                     num_threads=NUM_THREADS,\n",
    "                     k=3,\n",
    "                     item_features=item_features)\n",
    "print('recall_score: %.4f' % (recall_score.mean()))"
   ]
  },
  {
   "cell_type": "code",
   "execution_count": 20,
   "metadata": {},
   "outputs": [
    {
     "name": "stdout",
     "output_type": "stream",
     "text": [
      "recall_score test: 0.0402\n",
      "CPU times: user 13min 41s, sys: 496 ms, total: 13min 41s\n",
      "Wall time: 3min 31s\n"
     ]
    }
   ],
   "source": [
    "%%time\n",
    "recall_score_test = recall_at_k(model,\n",
    "                     weights_test,\n",
    "                     num_threads=NUM_THREADS,\n",
    "                     k=3,\n",
    "                     item_features=item_features)\n",
    "print('recall_score test: %.4f' % (recall_score_test.mean()))"
   ]
  },
  {
   "cell_type": "code",
   "execution_count": null,
   "metadata": {},
   "outputs": [],
   "source": []
  }
 ],
 "metadata": {
  "kernelspec": {
   "display_name": "Python 3.7.7 64-bit ('recsys': conda)",
   "language": "python",
   "name": "python37764bitrecsysconda6f303ec967d04267961d51e4f80ce511"
  },
  "language_info": {
   "codemirror_mode": {
    "name": "ipython",
    "version": 3
   },
   "file_extension": ".py",
   "mimetype": "text/x-python",
   "name": "python",
   "nbconvert_exporter": "python",
   "pygments_lexer": "ipython3",
   "version": "3.7.7"
  }
 },
 "nbformat": 4,
 "nbformat_minor": 4
}
